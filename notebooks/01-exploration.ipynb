{
 "cells": [
  {
   "cell_type": "code",
   "execution_count": 11,
   "metadata": {},
   "outputs": [],
   "source": [
    "import polars as pl\n",
    "from plotly import express as px\n",
    "import yaml"
   ]
  },
  {
   "cell_type": "code",
   "execution_count": 70,
   "metadata": {},
   "outputs": [],
   "source": [
    "with open(\"config.yml\", \"r\") as infile:\n",
    "    config = yaml.safe_load(infile)\n",
    "    datasets = config.get(\"datasets\")\n",
    "    settings = datasets.get(\"_defaults\")\n",
    "    dataset = datasets.get(2024)\n",
    "    settings.update(dataset)\n",
    "\n",
    "df = pl.read_excel(dataset.get(\"file\"), **settings.get(\"kwargs\"))\n",
    "for k, v in settings.get(\"columns\").items():\n",
    "    df = df.rename({v: k})\n",
    "for col, mapping in settings.get(\"mapping\").items():\n",
    "    default = mapping.pop(\"_default\", None)\n",
    "    df = df.with_columns(pl.col(col).replace(mapping, default=default))"
   ]
  },
  {
   "cell_type": "code",
   "execution_count": 71,
   "metadata": {},
   "outputs": [
    {
     "data": {
      "text/html": [
       "<div><style>\n",
       ".dataframe > thead > tr,\n",
       ".dataframe > tbody > tr {\n",
       "  text-align: right;\n",
       "  white-space: pre-wrap;\n",
       "}\n",
       "</style>\n",
       "<small>shape: (1_292, 8)</small><table border=\"1\" class=\"dataframe\"><thead><tr><th>Partei: Nr.</th><th>party</th><th>Partei: Name</th><th>These: Nr.</th><th>topic</th><th>These: These</th><th>opinion</th><th>Position: Begründung</th></tr><tr><td>i64</td><td>str</td><td>str</td><td>i64</td><td>str</td><td>str</td><td>i64</td><td>str</td></tr></thead><tbody><tr><td>1</td><td>&quot;CDU / CSU&quot;</td><td>&quot;Christlich Demokratische Union…</td><td>1</td><td>&quot;EU-Steuern&quot;</td><td>&quot;Die EU soll eigene Steuern erh…</td><td>-1</td><td>&quot;Wir wollen das bestehende Fina…</td></tr><tr><td>2</td><td>&quot;GRÜNE&quot;</td><td>&quot;BÜNDNIS 90/DIE GRÜNEN&quot;</td><td>1</td><td>&quot;EU-Steuern&quot;</td><td>&quot;Die EU soll eigene Steuern erh…</td><td>1</td><td>&quot;Die EU braucht eigene Einnahme…</td></tr><tr><td>3</td><td>&quot;SPD&quot;</td><td>&quot;Sozialdemokratische Partei Deu…</td><td>1</td><td>&quot;EU-Steuern&quot;</td><td>&quot;Die EU soll eigene Steuern erh…</td><td>-1</td><td>&quot;Wir wollen die EU finanziell u…</td></tr><tr><td>4</td><td>&quot;AfD&quot;</td><td>&quot;Alternative für Deutschland&quot;</td><td>1</td><td>&quot;EU-Steuern&quot;</td><td>&quot;Die EU soll eigene Steuern erh…</td><td>-1</td><td>&quot;Das Recht, Steuern zu erheben,…</td></tr><tr><td>5</td><td>&quot;DIE LINKE&quot;</td><td>&quot;DIE LINKE&quot;</td><td>1</td><td>&quot;EU-Steuern&quot;</td><td>&quot;Die EU soll eigene Steuern erh…</td><td>1</td><td>&quot;Wir streiten für eine europäis…</td></tr><tr><td>&hellip;</td><td>&hellip;</td><td>&hellip;</td><td>&hellip;</td><td>&hellip;</td><td>&hellip;</td><td>&hellip;</td><td>&hellip;</td></tr><tr><td>30</td><td>&quot;KLIMALISTE&quot;</td><td>&quot;Klimaliste Deutschland&quot;</td><td>38</td><td>&quot;Rolle des EU-Parlaments&quot;</td><td>&quot;Das Europäische Parlament soll…</td><td>1</td><td>&quot;Kandidatenmeinung: Das Europap…</td></tr><tr><td>31</td><td>&quot;LETZTE GENERATION&quot;</td><td>&quot;Parlament aufmischen – Stimme …</td><td>38</td><td>&quot;Rolle des EU-Parlaments&quot;</td><td>&quot;Das Europäische Parlament soll…</td><td>1</td><td>&quot;Spielt das Parlament gerade ei…</td></tr><tr><td>32</td><td>&quot;PDV&quot;</td><td>&quot;Partei der Vernunft&quot;</td><td>38</td><td>&quot;Rolle des EU-Parlaments&quot;</td><td>&quot;Das Europäische Parlament soll…</td><td>1</td><td>&quot;Wir wünschen uns eine noch wic…</td></tr><tr><td>33</td><td>&quot;PdF&quot;</td><td>&quot;Partei des Fortschritts&quot;</td><td>38</td><td>&quot;Rolle des EU-Parlaments&quot;</td><td>&quot;Das Europäische Parlament soll…</td><td>1</td><td>&quot;Ein demokratisch gewähltes Par…</td></tr><tr><td>34</td><td>&quot;V-Partei³&quot;</td><td>&quot;V-Partei³ - Partei für Verände…</td><td>38</td><td>&quot;Rolle des EU-Parlaments&quot;</td><td>&quot;Das Europäische Parlament soll…</td><td>1</td><td>&quot;Die Rolle des Parlaments muss …</td></tr></tbody></table></div>"
      ],
      "text/plain": [
       "shape: (1_292, 8)\n",
       "┌─────────┬─────────────┬─────────────┬────────┬─────────────┬─────────────┬─────────┬─────────────┐\n",
       "│ Partei: ┆ party       ┆ Partei:     ┆ These: ┆ topic       ┆ These:      ┆ opinion ┆ Position:   │\n",
       "│ Nr.     ┆ ---         ┆ Name        ┆ Nr.    ┆ ---         ┆ These       ┆ ---     ┆ Begründung  │\n",
       "│ ---     ┆ str         ┆ ---         ┆ ---    ┆ str         ┆ ---         ┆ i64     ┆ ---         │\n",
       "│ i64     ┆             ┆ str         ┆ i64    ┆             ┆ str         ┆         ┆ str         │\n",
       "╞═════════╪═════════════╪═════════════╪════════╪═════════════╪═════════════╪═════════╪═════════════╡\n",
       "│ 1       ┆ CDU / CSU   ┆ Christlich  ┆ 1      ┆ EU-Steuern  ┆ Die EU soll ┆ -1      ┆ Wir wollen  │\n",
       "│         ┆             ┆ Demokratisc ┆        ┆             ┆ eigene      ┆         ┆ das         │\n",
       "│         ┆             ┆ he Union…   ┆        ┆             ┆ Steuern     ┆         ┆ bestehende  │\n",
       "│         ┆             ┆             ┆        ┆             ┆ erh…        ┆         ┆ Fina…       │\n",
       "│ 2       ┆ GRÜNE       ┆ BÜNDNIS     ┆ 1      ┆ EU-Steuern  ┆ Die EU soll ┆ 1       ┆ Die EU      │\n",
       "│         ┆             ┆ 90/DIE      ┆        ┆             ┆ eigene      ┆         ┆ braucht     │\n",
       "│         ┆             ┆ GRÜNEN      ┆        ┆             ┆ Steuern     ┆         ┆ eigene      │\n",
       "│         ┆             ┆             ┆        ┆             ┆ erh…        ┆         ┆ Einnahme…   │\n",
       "│ 3       ┆ SPD         ┆ Sozialdemok ┆ 1      ┆ EU-Steuern  ┆ Die EU soll ┆ -1      ┆ Wir wollen  │\n",
       "│         ┆             ┆ ratische    ┆        ┆             ┆ eigene      ┆         ┆ die EU      │\n",
       "│         ┆             ┆ Partei Deu… ┆        ┆             ┆ Steuern     ┆         ┆ finanziell  │\n",
       "│         ┆             ┆             ┆        ┆             ┆ erh…        ┆         ┆ u…          │\n",
       "│ 4       ┆ AfD         ┆ Alternative ┆ 1      ┆ EU-Steuern  ┆ Die EU soll ┆ -1      ┆ Das Recht,  │\n",
       "│         ┆             ┆ für         ┆        ┆             ┆ eigene      ┆         ┆ Steuern zu  │\n",
       "│         ┆             ┆ Deutschland ┆        ┆             ┆ Steuern     ┆         ┆ erheben,…   │\n",
       "│         ┆             ┆             ┆        ┆             ┆ erh…        ┆         ┆             │\n",
       "│ 5       ┆ DIE LINKE   ┆ DIE LINKE   ┆ 1      ┆ EU-Steuern  ┆ Die EU soll ┆ 1       ┆ Wir         │\n",
       "│         ┆             ┆             ┆        ┆             ┆ eigene      ┆         ┆ streiten    │\n",
       "│         ┆             ┆             ┆        ┆             ┆ Steuern     ┆         ┆ für eine    │\n",
       "│         ┆             ┆             ┆        ┆             ┆ erh…        ┆         ┆ europäis…   │\n",
       "│ …       ┆ …           ┆ …           ┆ …      ┆ …           ┆ …           ┆ …       ┆ …           │\n",
       "│ 30      ┆ KLIMALISTE  ┆ Klimaliste  ┆ 38     ┆ Rolle des   ┆ Das         ┆ 1       ┆ Kandidatenm │\n",
       "│         ┆             ┆ Deutschland ┆        ┆ EU-Parlamen ┆ Europäische ┆         ┆ einung: Das │\n",
       "│         ┆             ┆             ┆        ┆ ts          ┆ Parlament   ┆         ┆ Europap…    │\n",
       "│         ┆             ┆             ┆        ┆             ┆ soll…       ┆         ┆             │\n",
       "│ 31      ┆ LETZTE      ┆ Parlament   ┆ 38     ┆ Rolle des   ┆ Das         ┆ 1       ┆ Spielt das  │\n",
       "│         ┆ GENERATION  ┆ aufmischen  ┆        ┆ EU-Parlamen ┆ Europäische ┆         ┆ Parlament   │\n",
       "│         ┆             ┆ – Stimme …  ┆        ┆ ts          ┆ Parlament   ┆         ┆ gerade ei…  │\n",
       "│         ┆             ┆             ┆        ┆             ┆ soll…       ┆         ┆             │\n",
       "│ 32      ┆ PDV         ┆ Partei der  ┆ 38     ┆ Rolle des   ┆ Das         ┆ 1       ┆ Wir         │\n",
       "│         ┆             ┆ Vernunft    ┆        ┆ EU-Parlamen ┆ Europäische ┆         ┆ wünschen    │\n",
       "│         ┆             ┆             ┆        ┆ ts          ┆ Parlament   ┆         ┆ uns eine    │\n",
       "│         ┆             ┆             ┆        ┆             ┆ soll…       ┆         ┆ noch wic…   │\n",
       "│ 33      ┆ PdF         ┆ Partei des  ┆ 38     ┆ Rolle des   ┆ Das         ┆ 1       ┆ Ein demokra │\n",
       "│         ┆             ┆ Fortschritt ┆        ┆ EU-Parlamen ┆ Europäische ┆         ┆ tisch       │\n",
       "│         ┆             ┆ s           ┆        ┆ ts          ┆ Parlament   ┆         ┆ gewähltes   │\n",
       "│         ┆             ┆             ┆        ┆             ┆ soll…       ┆         ┆ Par…        │\n",
       "│ 34      ┆ V-Partei³   ┆ V-Partei³ - ┆ 38     ┆ Rolle des   ┆ Das         ┆ 1       ┆ Die Rolle   │\n",
       "│         ┆             ┆ Partei für  ┆        ┆ EU-Parlamen ┆ Europäische ┆         ┆ des         │\n",
       "│         ┆             ┆ Verände…    ┆        ┆ ts          ┆ Parlament   ┆         ┆ Parlaments  │\n",
       "│         ┆             ┆             ┆        ┆             ┆ soll…       ┆         ┆ muss …      │\n",
       "└─────────┴─────────────┴─────────────┴────────┴─────────────┴─────────────┴─────────┴─────────────┘"
      ]
     },
     "execution_count": 71,
     "metadata": {},
     "output_type": "execute_result"
    }
   ],
   "source": [
    "df"
   ]
  },
  {
   "cell_type": "code",
   "execution_count": 72,
   "metadata": {},
   "outputs": [
    {
     "data": {
      "text/html": [
       "<div><style>\n",
       ".dataframe > thead > tr,\n",
       ".dataframe > tbody > tr {\n",
       "  text-align: right;\n",
       "  white-space: pre-wrap;\n",
       "}\n",
       "</style>\n",
       "<small>shape: (34, 39)</small><table border=\"1\" class=\"dataframe\"><thead><tr><th>party</th><th>EU-Steuern</th><th>Verbrennungsmotoren</th><th>Seenotrettung</th><th>EU-Mitgliedschaft der Ukraine</th><th>Ökologische Landwirtschaft</th><th>Nationale Währung</th><th>Geschlechtsidentität im Pass</th><th>Jagd von Wölfen</th><th>Photovoltaik für Wohngebäude</th><th>Außenpolitische Entscheidungen</th><th>Flugzeugtreibstoff</th><th>Europol</th><th>Öffentlich-rechtlicher Rundfunk</th><th>Verwerfen der Klimaziele</th><th>Geschlechteranteil auf Wahllisten</th><th>Soziale Grundsicherung</th><th>Desinformation in sozialen Netzwerken</th><th>Naturschutzgebiete</th><th>Regeln und Werte der EU</th><th>Waffen für die Ukraine</th><th>Senkung der Fischfangquoten</th><th>Einfuhrzölle auf Elektroautos</th><th>Schwangerschaftsabbrüche</th><th>Dauerhafte Grenzkontrollen</th><th>Volksabstimmung bei neuen Mitgliedern</th><th>Gentechnisch veränderte Pflanzen</th><th>Gewalt gegen Frauen</th><th>Urheberschutz</th><th>Abbau der Sanktionen gegen Russland</th><th>Erasmus+ Stipendium</th><th>Atomkraft</th><th>Einwanderung von Fachkräften</th><th>Kritische Infrastruktur</th><th>Direktwahl</th><th>Preis für den Ausstoß von CO₂</th><th>Asylanträge an der EU-Außengrenze</th><th>EU-Rüstungsprojekte</th><th>Rolle des EU-Parlaments</th></tr><tr><td>str</td><td>i64</td><td>i64</td><td>i64</td><td>i64</td><td>i64</td><td>i64</td><td>i64</td><td>i64</td><td>i64</td><td>i64</td><td>i64</td><td>i64</td><td>i64</td><td>i64</td><td>i64</td><td>i64</td><td>i64</td><td>i64</td><td>i64</td><td>i64</td><td>i64</td><td>i64</td><td>i64</td><td>i64</td><td>i64</td><td>i64</td><td>i64</td><td>i64</td><td>i64</td><td>i64</td><td>i64</td><td>i64</td><td>i64</td><td>i64</td><td>i64</td><td>i64</td><td>i64</td><td>i64</td></tr></thead><tbody><tr><td>&quot;CDU / CSU&quot;</td><td>-1</td><td>1</td><td>-1</td><td>1</td><td>-1</td><td>-1</td><td>-1</td><td>1</td><td>-1</td><td>1</td><td>1</td><td>1</td><td>-1</td><td>-1</td><td>1</td><td>-1</td><td>-1</td><td>0</td><td>1</td><td>1</td><td>-1</td><td>1</td><td>-1</td><td>1</td><td>-1</td><td>0</td><td>1</td><td>-1</td><td>-1</td><td>1</td><td>1</td><td>1</td><td>1</td><td>-1</td><td>1</td><td>1</td><td>1</td><td>1</td></tr><tr><td>&quot;GRÜNE&quot;</td><td>1</td><td>-1</td><td>1</td><td>1</td><td>1</td><td>-1</td><td>1</td><td>-1</td><td>1</td><td>1</td><td>-1</td><td>1</td><td>1</td><td>-1</td><td>-1</td><td>1</td><td>-1</td><td>1</td><td>1</td><td>1</td><td>1</td><td>-1</td><td>1</td><td>-1</td><td>-1</td><td>-1</td><td>1</td><td>0</td><td>-1</td><td>1</td><td>-1</td><td>1</td><td>1</td><td>-1</td><td>1</td><td>-1</td><td>1</td><td>1</td></tr><tr><td>&quot;SPD&quot;</td><td>-1</td><td>-1</td><td>1</td><td>1</td><td>-1</td><td>-1</td><td>1</td><td>0</td><td>-1</td><td>1</td><td>-1</td><td>1</td><td>-1</td><td>-1</td><td>-1</td><td>1</td><td>-1</td><td>1</td><td>1</td><td>1</td><td>1</td><td>1</td><td>1</td><td>-1</td><td>-1</td><td>1</td><td>1</td><td>1</td><td>-1</td><td>1</td><td>-1</td><td>1</td><td>1</td><td>-1</td><td>1</td><td>1</td><td>1</td><td>1</td></tr><tr><td>&quot;AfD&quot;</td><td>-1</td><td>1</td><td>-1</td><td>-1</td><td>-1</td><td>1</td><td>-1</td><td>1</td><td>-1</td><td>-1</td><td>1</td><td>-1</td><td>-1</td><td>1</td><td>1</td><td>-1</td><td>1</td><td>-1</td><td>-1</td><td>-1</td><td>-1</td><td>-1</td><td>-1</td><td>1</td><td>1</td><td>-1</td><td>-1</td><td>0</td><td>1</td><td>0</td><td>1</td><td>-1</td><td>1</td><td>1</td><td>-1</td><td>1</td><td>-1</td><td>-1</td></tr><tr><td>&quot;DIE LINKE&quot;</td><td>1</td><td>-1</td><td>1</td><td>-1</td><td>1</td><td>-1</td><td>1</td><td>-1</td><td>1</td><td>-1</td><td>-1</td><td>-1</td><td>1</td><td>-1</td><td>-1</td><td>1</td><td>-1</td><td>1</td><td>1</td><td>-1</td><td>1</td><td>-1</td><td>1</td><td>-1</td><td>1</td><td>-1</td><td>1</td><td>1</td><td>-1</td><td>1</td><td>-1</td><td>1</td><td>1</td><td>1</td><td>1</td><td>-1</td><td>-1</td><td>1</td></tr><tr><td>&hellip;</td><td>&hellip;</td><td>&hellip;</td><td>&hellip;</td><td>&hellip;</td><td>&hellip;</td><td>&hellip;</td><td>&hellip;</td><td>&hellip;</td><td>&hellip;</td><td>&hellip;</td><td>&hellip;</td><td>&hellip;</td><td>&hellip;</td><td>&hellip;</td><td>&hellip;</td><td>&hellip;</td><td>&hellip;</td><td>&hellip;</td><td>&hellip;</td><td>&hellip;</td><td>&hellip;</td><td>&hellip;</td><td>&hellip;</td><td>&hellip;</td><td>&hellip;</td><td>&hellip;</td><td>&hellip;</td><td>&hellip;</td><td>&hellip;</td><td>&hellip;</td><td>&hellip;</td><td>&hellip;</td><td>&hellip;</td><td>&hellip;</td><td>&hellip;</td><td>&hellip;</td><td>&hellip;</td><td>&hellip;</td></tr><tr><td>&quot;KLIMALISTE&quot;</td><td>1</td><td>-1</td><td>1</td><td>0</td><td>1</td><td>-1</td><td>1</td><td>-1</td><td>1</td><td>1</td><td>-1</td><td>1</td><td>1</td><td>-1</td><td>1</td><td>1</td><td>-1</td><td>1</td><td>1</td><td>0</td><td>1</td><td>-1</td><td>1</td><td>-1</td><td>-1</td><td>-1</td><td>1</td><td>0</td><td>-1</td><td>1</td><td>-1</td><td>1</td><td>1</td><td>-1</td><td>1</td><td>-1</td><td>-1</td><td>1</td></tr><tr><td>&quot;LETZTE GENERATION&quot;</td><td>0</td><td>-1</td><td>1</td><td>0</td><td>1</td><td>-1</td><td>1</td><td>0</td><td>1</td><td>1</td><td>-1</td><td>-1</td><td>1</td><td>-1</td><td>-1</td><td>1</td><td>-1</td><td>1</td><td>0</td><td>0</td><td>1</td><td>0</td><td>1</td><td>-1</td><td>0</td><td>0</td><td>1</td><td>0</td><td>-1</td><td>1</td><td>-1</td><td>1</td><td>1</td><td>0</td><td>1</td><td>-1</td><td>0</td><td>1</td></tr><tr><td>&quot;PDV&quot;</td><td>-1</td><td>1</td><td>-1</td><td>-1</td><td>-1</td><td>1</td><td>0</td><td>1</td><td>-1</td><td>-1</td><td>1</td><td>-1</td><td>-1</td><td>1</td><td>1</td><td>-1</td><td>1</td><td>-1</td><td>0</td><td>-1</td><td>-1</td><td>-1</td><td>0</td><td>-1</td><td>1</td><td>1</td><td>-1</td><td>-1</td><td>1</td><td>-1</td><td>1</td><td>1</td><td>-1</td><td>1</td><td>-1</td><td>0</td><td>-1</td><td>1</td></tr><tr><td>&quot;PdF&quot;</td><td>-1</td><td>1</td><td>1</td><td>1</td><td>1</td><td>-1</td><td>1</td><td>0</td><td>-1</td><td>1</td><td>-1</td><td>1</td><td>0</td><td>-1</td><td>1</td><td>1</td><td>-1</td><td>1</td><td>1</td><td>1</td><td>1</td><td>1</td><td>1</td><td>-1</td><td>1</td><td>-1</td><td>1</td><td>0</td><td>-1</td><td>1</td><td>-1</td><td>1</td><td>1</td><td>1</td><td>1</td><td>1</td><td>1</td><td>1</td></tr><tr><td>&quot;V-Partei³&quot;</td><td>-1</td><td>-1</td><td>1</td><td>0</td><td>1</td><td>-1</td><td>1</td><td>-1</td><td>1</td><td>1</td><td>-1</td><td>1</td><td>1</td><td>-1</td><td>1</td><td>1</td><td>-1</td><td>1</td><td>1</td><td>-1</td><td>1</td><td>1</td><td>1</td><td>-1</td><td>-1</td><td>-1</td><td>1</td><td>-1</td><td>-1</td><td>1</td><td>-1</td><td>1</td><td>1</td><td>-1</td><td>1</td><td>-1</td><td>1</td><td>1</td></tr></tbody></table></div>"
      ],
      "text/plain": [
       "shape: (34, 39)\n",
       "┌───────────┬───────────┬───────────┬───────────┬───┬───────────┬───────────┬───────────┬──────────┐\n",
       "│ party     ┆ EU-Steuer ┆ Verbrennu ┆ Seenotret ┆ … ┆ Preis für ┆ Asylanträ ┆ EU-Rüstun ┆ Rolle    │\n",
       "│ ---       ┆ n         ┆ ngsmotore ┆ tung      ┆   ┆ den       ┆ ge an der ┆ gsprojekt ┆ des EU-P │\n",
       "│ str       ┆ ---       ┆ n         ┆ ---       ┆   ┆ Ausstoß   ┆ EU-Außeng ┆ e         ┆ arlament │\n",
       "│           ┆ i64       ┆ ---       ┆ i64       ┆   ┆ von CO₂   ┆ re…       ┆ ---       ┆ s        │\n",
       "│           ┆           ┆ i64       ┆           ┆   ┆ ---       ┆ ---       ┆ i64       ┆ ---      │\n",
       "│           ┆           ┆           ┆           ┆   ┆ i64       ┆ i64       ┆           ┆ i64      │\n",
       "╞═══════════╪═══════════╪═══════════╪═══════════╪═══╪═══════════╪═══════════╪═══════════╪══════════╡\n",
       "│ CDU / CSU ┆ -1        ┆ 1         ┆ -1        ┆ … ┆ 1         ┆ 1         ┆ 1         ┆ 1        │\n",
       "│ GRÜNE     ┆ 1         ┆ -1        ┆ 1         ┆ … ┆ 1         ┆ -1        ┆ 1         ┆ 1        │\n",
       "│ SPD       ┆ -1        ┆ -1        ┆ 1         ┆ … ┆ 1         ┆ 1         ┆ 1         ┆ 1        │\n",
       "│ AfD       ┆ -1        ┆ 1         ┆ -1        ┆ … ┆ -1        ┆ 1         ┆ -1        ┆ -1       │\n",
       "│ DIE LINKE ┆ 1         ┆ -1        ┆ 1         ┆ … ┆ 1         ┆ -1        ┆ -1        ┆ 1        │\n",
       "│ …         ┆ …         ┆ …         ┆ …         ┆ … ┆ …         ┆ …         ┆ …         ┆ …        │\n",
       "│ KLIMALIST ┆ 1         ┆ -1        ┆ 1         ┆ … ┆ 1         ┆ -1        ┆ -1        ┆ 1        │\n",
       "│ E         ┆           ┆           ┆           ┆   ┆           ┆           ┆           ┆          │\n",
       "│ LETZTE    ┆ 0         ┆ -1        ┆ 1         ┆ … ┆ 1         ┆ -1        ┆ 0         ┆ 1        │\n",
       "│ GENERATIO ┆           ┆           ┆           ┆   ┆           ┆           ┆           ┆          │\n",
       "│ N         ┆           ┆           ┆           ┆   ┆           ┆           ┆           ┆          │\n",
       "│ PDV       ┆ -1        ┆ 1         ┆ -1        ┆ … ┆ -1        ┆ 0         ┆ -1        ┆ 1        │\n",
       "│ PdF       ┆ -1        ┆ 1         ┆ 1         ┆ … ┆ 1         ┆ 1         ┆ 1         ┆ 1        │\n",
       "│ V-Partei³ ┆ -1        ┆ -1        ┆ 1         ┆ … ┆ 1         ┆ -1        ┆ 1         ┆ 1        │\n",
       "└───────────┴───────────┴───────────┴───────────┴───┴───────────┴───────────┴───────────┴──────────┘"
      ]
     },
     "execution_count": 72,
     "metadata": {},
     "output_type": "execute_result"
    }
   ],
   "source": [
    "matrix = df.pivot(\n",
    "    index = \"party\",\n",
    "    columns = \"topic\",\n",
    "    values = \"opinion\",\n",
    "    aggregate_function = None, # raise error on duplicates\n",
    ")\n",
    "matrix"
   ]
  },
  {
   "cell_type": "code",
   "execution_count": null,
   "metadata": {},
   "outputs": [],
   "source": []
  }
 ],
 "metadata": {
  "kernelspec": {
   "display_name": ".venv",
   "language": "python",
   "name": "python3"
  },
  "language_info": {
   "codemirror_mode": {
    "name": "ipython",
    "version": 3
   },
   "file_extension": ".py",
   "mimetype": "text/x-python",
   "name": "python",
   "nbconvert_exporter": "python",
   "pygments_lexer": "ipython3",
   "version": "3.10.13"
  }
 },
 "nbformat": 4,
 "nbformat_minor": 2
}
